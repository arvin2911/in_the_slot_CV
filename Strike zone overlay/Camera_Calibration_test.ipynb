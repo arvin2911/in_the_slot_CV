{
 "cells": [
  {
   "cell_type": "code",
   "execution_count": 2,
   "metadata": {},
   "outputs": [],
   "source": [
    "\n",
    "# import cv2\n",
    "# import numpy as np\n",
    "# import os\n",
    "# import glob\n",
    " \n",
    "# # Defining the dimensions of checkerboard\n",
    "# CHECKERBOARD = (6,9)\n",
    "# criteria = (cv2.TERM_CRITERIA_EPS + cv2.TERM_CRITERIA_MAX_ITER, 30, 0.001)\n",
    " \n",
    "# # Creating vector to store vectors of 3D points for each checkerboard image\n",
    "# objpoints = []\n",
    "# # Creating vector to store vectors of 2D points for each checkerboard image\n",
    "# imgpoints = [] \n",
    " \n",
    "\n",
    "# # defining world points\n",
    "# objp = np.zeros((1, CHECKERBOARD[0] * CHECKERBOARD[1], 3), np.float32)\n",
    "# objp[0,:,:2] = np.mgrid[0:CHECKERBOARD[0], 0:CHECKERBOARD[1]].T.reshape(-1, 2) # size of square in meters\n",
    "# prev_img_shape = None\n",
    " "
   ]
  },
  {
   "cell_type": "code",
   "execution_count": 3,
   "metadata": {},
   "outputs": [],
   "source": [
    "# # Extracting path of individual image stored in a given directory\n",
    "# images = glob.glob('./iPhone16_calibration/*.JPG')\n",
    "# for fname in images:\n",
    "#     img = cv2.imread(fname)\n",
    "#     gray = cv2.cvtColor(img,cv2.COLOR_BGR2GRAY)\n",
    "#     # Find the chess board corners\n",
    "#     # If desired number of corners are found in the image then ret = true\n",
    "#     ret, corners = cv2.findChessboardCorners(gray, CHECKERBOARD, cv2.CALIB_CB_ADAPTIVE_THRESH + cv2.CALIB_CB_FAST_CHECK + cv2.CALIB_CB_NORMALIZE_IMAGE)\n",
    "     \n",
    "#     \"\"\"\n",
    "#     If desired number of corner are detected,\n",
    "#     we refine the pixel coordinates and display \n",
    "#     them on the images of checker board\n",
    "#     \"\"\"\n",
    "#     if ret == True:\n",
    "#         objpoints.append(objp)\n",
    "#         # refining pixel coordinates for given 2d points.\n",
    "#         corners2 = cv2.cornerSubPix(gray, corners, (11,11),(-1,-1), criteria)\n",
    "         \n",
    "#         imgpoints.append(corners2)\n",
    " \n",
    "#         # Draw and display the corners\n",
    "#         img = cv2.drawChessboardCorners(img, CHECKERBOARD, corners2, ret)\n",
    "     \n",
    "#     cv2.imshow('img',img)\n",
    "#     cv2.waitKey(1)\n",
    "#     cv2.destroyAllWindows()\n",
    "\n",
    "# cv2.destroyAllWindows()\n",
    "# cv2.waitKey(1)\n",
    " \n",
    "# h,w = img.shape[:2]\n",
    " \n",
    "# \"\"\"\n",
    "# Performing camera calibration by \n",
    "# passing the value of known 3D points (objpoints)\n",
    "# and corresponding pixel coordinates of the \n",
    "# detected corners (imgpoints)\n",
    "# \"\"\"\n",
    "# ret, mtx, dist, rvecs, tvecs = cv2.calibrateCamera(objpoints, imgpoints, gray.shape[::-1], None, None)\n",
    " \n",
    "# print(\"Camera matrix : \\n\")\n",
    "# print(mtx)\n",
    "# print(\"dist : \\n\")\n",
    "# print(dist)\n",
    "# print(\"rvecs : \\n\")\n",
    "# print(rvecs)\n",
    "# print(\"tvecs : \\n\")\n",
    "# print(tvecs)"
   ]
  },
  {
   "cell_type": "code",
   "execution_count": 4,
   "metadata": {},
   "outputs": [],
   "source": [
    "# print(ret)"
   ]
  },
  {
   "cell_type": "code",
   "execution_count": 5,
   "metadata": {},
   "outputs": [],
   "source": [
    "# print(f\"fx: {mtx[0][0]}, fy: {mtx[1][1]}\")\n",
    "# print(f\"cx: {mtx[0][2]}, cy: {mtx[1][2]}\")\n",
    "\n",
    "# fx = mtx[0][0]\n",
    "# fy = mtx[1][1]\n",
    "# cx = mtx[0][2]\n",
    "# cy = mtx[1][2]"
   ]
  },
  {
   "cell_type": "code",
   "execution_count": 6,
   "metadata": {},
   "outputs": [],
   "source": [
    "\n",
    "import numpy as np\n",
    "import cv2\n",
    "import glob\n",
    "import argparse\n",
    "\n",
    "# termination criteriab\n",
    "criteria = (cv2.TERM_CRITERIA_EPS + cv2.TERM_CRITERIA_MAX_ITER, 30, 0.001)\n",
    "\n",
    "\n",
    "def calibrate(dirpath, prefix, image_format, square_size, width=9, height=6):\n",
    "    \"\"\" Apply camera calibration operation for images in the given directory path. \"\"\"\n",
    "    # prepare object points, like (0,0,0), (1,0,0), (2,0,0) ....,(8,6,0)\n",
    "    objp = np.zeros((height*width, 3), np.float32)\n",
    "    objp[:, :2] = np.mgrid[0:width, 0:height].T.reshape(-1, 2)\n",
    "\n",
    "    objp = objp * square_size\n",
    "\n",
    "    # Arrays to store object points and image points from all the images.\n",
    "    objpoints = []  # 3d point in real world space\n",
    "    imgpoints = []  # 2d points in image plane.\n",
    "\n",
    "    if dirpath[-1:] == '/':\n",
    "        dirpath = dirpath[:-1]\n",
    "\n",
    "    images = glob.glob(dirpath+'/' + prefix + '*.' + image_format)\n",
    "\n",
    "    for fname in images:\n",
    "        img = cv2.imread(fname)\n",
    "        gray = cv2.cvtColor(img, cv2.COLOR_BGR2GRAY)\n",
    "\n",
    "        # Find the chess board corners\n",
    "        ret, corners = cv2.findChessboardCorners(gray, (width, height), None)\n",
    "\n",
    "        # If found, add object points, image points (after refining them)\n",
    "        if ret:\n",
    "            objpoints.append(objp)\n",
    "\n",
    "            corners2 = cv2.cornerSubPix(gray, corners, (11, 11), (-1, -1), criteria)\n",
    "            imgpoints.append(corners2)\n",
    "\n",
    "            # Draw and display the corners\n",
    "            img = cv2.drawChessboardCorners(img, (width, height), corners2, ret)\n",
    "\n",
    "    ret, mtx, dist, rvecs, tvecs = cv2.calibrateCamera(objpoints, imgpoints, gray.shape[::-1], None, None)\n",
    "\n",
    "    return [ret, mtx, dist, rvecs, tvecs]\n",
    "def save_coefficients(mtx, dist, path):\n",
    "    \"\"\" Save the camera matrix and the distortion coefficients to given path/file. \"\"\"\n",
    "    cv_file = cv2.FileStorage(path, cv2.FILE_STORAGE_WRITE)\n",
    "    cv_file.write(\"K\", mtx)\n",
    "    cv_file.write(\"D\", dist)\n",
    "    # note you *release* you don't close() a FileStorage object\n",
    "    cv_file.release()\n",
    "def load_coefficients(path):\n",
    "    \"\"\" Loads camera matrix and distortion coefficients. \"\"\"\n",
    "    # FILE_STORAGE_READ\n",
    "    cv_file = cv2.FileStorage(path, cv2.FILE_STORAGE_READ)\n",
    "\n",
    "    # note we also have to specify the type to retrieve other wise we only get a\n",
    "    # FileNode object back instead of a matrix\n",
    "    camera_matrix = cv_file.getNode(\"K\").mat()\n",
    "    dist_matrix = cv_file.getNode(\"D\").mat()\n",
    "\n",
    "    cv_file.release()\n",
    "    return [camera_matrix, dist_matrix]"
   ]
  },
  {
   "cell_type": "code",
   "execution_count": 7,
   "metadata": {},
   "outputs": [
    {
     "name": "stdout",
     "output_type": "stream",
     "text": [
      "Calibration is finished. RMS:  2.1828099758145165\n"
     ]
    }
   ],
   "source": [
    "\n",
    "# if __name__ == '__main__':\n",
    "#     parser = argparse.ArgumentParser(description='Camera calibration')\n",
    "#     parser.add_argument('--image_dir', type=str, required=True, help='image directory path')\n",
    "#     parser.add_argument('--image_format', type=str, required=True,  help='image format, png/jpg')\n",
    "#     parser.add_argument('--prefix', type=str, required=True, help='image prefix')\n",
    "#     parser.add_argument('--square_size', type=float, required=False, help='chessboard square size')\n",
    "#     parser.add_argument('--width', type=int, required=False, help='chessboard width size, default is 9')\n",
    "#     parser.add_argument('--height', type=int, required=False, help='chessboard height size, default is 6')\n",
    "#     parser.add_argument('--save_file', type=str, required=True, help='YML file to save calibration matrices')\n",
    "\n",
    "    # args = parser.parse_args()\n",
    "ret, mtx, dist, rvecs, tvecs = calibrate(\"\", \"\", \"JPG\", .025, 9, 6)\n",
    "# save_coefficients(mtx, dist, args.save_file)\n",
    "print(\"Calibration is finished. RMS: \", ret)"
   ]
  },
  {
   "cell_type": "code",
   "execution_count": 8,
   "metadata": {},
   "outputs": [
    {
     "name": "stdout",
     "output_type": "stream",
     "text": [
      "[[3.08392653e+03 0.00000000e+00 1.98378736e+03]\n",
      " [0.00000000e+00 3.07897372e+03 1.49240130e+03]\n",
      " [0.00000000e+00 0.00000000e+00 1.00000000e+00]]\n"
     ]
    }
   ],
   "source": [
    "print(mtx)"
   ]
  },
  {
   "cell_type": "code",
   "execution_count": null,
   "metadata": {},
   "outputs": [],
   "source": []
  }
 ],
 "metadata": {
  "kernelspec": {
   "display_name": "base",
   "language": "python",
   "name": "python3"
  },
  "language_info": {
   "codemirror_mode": {
    "name": "ipython",
    "version": 3
   },
   "file_extension": ".py",
   "mimetype": "text/x-python",
   "name": "python",
   "nbconvert_exporter": "python",
   "pygments_lexer": "ipython3",
   "version": "3.9.7"
  }
 },
 "nbformat": 4,
 "nbformat_minor": 2
}
