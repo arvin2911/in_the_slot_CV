{
 "cells": [
  {
   "cell_type": "code",
   "execution_count": 45,
   "id": "0187250a",
   "metadata": {},
   "outputs": [],
   "source": [
    "import numpy as np\n",
    "import matplotlib.pyplot as plt\n",
    "import cv2\n",
    "import os\n",
    "#Import packages for this bih"
   ]
  },
  {
   "cell_type": "code",
   "execution_count": 46,
   "id": "bc4eec64",
   "metadata": {},
   "outputs": [],
   "source": [
    "cap = cv2.VideoCapture('C:\\\\Users\\\\ducks\\\\in_the_slot_CV\\\\pitching videos\\\\2-9 videos\\\\Underhand_5.MP4') #Read in pitch from folder\n",
    "frame_list = []  #List where we will store each frame of the video\n",
    "while(cap.isOpened()): \n",
    "      \n",
    "# Capture frame-by-frame \n",
    "    ret, frame = cap.read() \n",
    "    if ret == True: \n",
    "    # Display the resulting frame \n",
    "#         cv2.imshow('Frame', frame) \n",
    "        frame_list.append(frame)\n",
    "    # Press Q on keyboard to exit \n",
    "        if cv2.waitKey(25) & 0xFF == ord('q'): \n",
    "            break\n",
    "  \n",
    "\n",
    "    else: \n",
    "        break\n",
    "\n",
    "# the video capture object \n",
    "cap.release() \n",
    "  \n",
    "# Closes all the frames \n",
    "cv2.destroyAllWindows() "
   ]
  },
  {
   "cell_type": "code",
   "execution_count": 47,
   "id": "324a3d8b",
   "metadata": {},
   "outputs": [
    {
     "name": "stdout",
     "output_type": "stream",
     "text": [
      "336\n"
     ]
    }
   ],
   "source": [
    "print(len(frame_list))"
   ]
  },
  {
   "cell_type": "code",
   "execution_count": 48,
   "id": "db1bb709",
   "metadata": {},
   "outputs": [
    {
     "name": "stdout",
     "output_type": "stream",
     "text": [
      "(1920, 1080, 3)\n"
     ]
    }
   ],
   "source": [
    "cv2.imshow('Frame',frame_list[50]) #Show random frame of the video. I picked 200 to do my editing on but it doesn't matter\n",
    "print(np.shape(frame_list[50].swapaxes(0,1)))\n",
    "cv2.waitKey(0) \n",
    "  \n",
    "# closing all open windows \n",
    "cv2.destroyAllWindows() \n",
    "\n"
   ]
  },
  {
   "cell_type": "code",
   "execution_count": 49,
   "id": "d519935f",
   "metadata": {},
   "outputs": [],
   "source": [
    "CANVAS_SIZE = (1080,1920)\n",
    "\n",
    "FINAL_LINE_COLOR = (0, 0, 255)\n",
    "WORKING_LINE_COLOR = (127, 127, 127)\n",
    "THICKNESS = 3\n",
    "# ============================================================================\n",
    "\n",
    "class PolygonDrawer(object):\n",
    "    def __init__(self, window_name,canvas):\n",
    "        self.window_name = window_name # Name for our window\n",
    "        self.canvas = np.copy(canvas)\n",
    "        self.done = False # Flag signalling we're done\n",
    "        self.current = (0, 0) # Current position, so we can draw the line-in-progress\n",
    "        self.points = [] # List of points defining our polygon\n",
    "#         self.working_points = [] #Points that will show where the cursor currently is, but will not be saved into final image\n",
    "\n",
    "    def on_mouse(self, event, x, y, buttons, user_param):\n",
    "        # Mouse callback that gets called for every mouse event (i.e. moving, clicking, etc.)\n",
    "\n",
    "        if self.done: # Nothing more to do\n",
    "            return\n",
    "\n",
    "        if event == cv2.EVENT_MOUSEMOVE:\n",
    "            # We want to be able to draw the line-in-progress, so update current mouse position\n",
    "            self.current = (x, y)\n",
    "        elif event == cv2.EVENT_LBUTTONDOWN:\n",
    "            # Left click means adding a point at current position to the list of points\n",
    "            print(\"Adding point #%d with position(%d,%d)\" % (len(self.points), x, y))\n",
    "            self.points.append((x, y))\n",
    "        elif event == cv2.EVENT_RBUTTONDOWN or len(self.points) == 2:\n",
    "            # Right click means we're done\n",
    "            print(\"Completing polygon with %d points.\" % len(self.points))\n",
    "            self.done = True\n",
    "\n",
    "\n",
    "    def run(self):\n",
    "        # Let's create our working window and set a mouse callback to handle events\n",
    "        cv2.namedWindow(self.window_name, flags=cv2.WINDOW_NORMAL)\n",
    "        cv2.imshow(self.window_name, self.canvas)\n",
    "        cv2.waitKey(1)\n",
    "        cv2.setMouseCallback(self.window_name, self.on_mouse)\n",
    "        clean = np.copy(self.canvas)\n",
    "        while(not self.done):\n",
    "            # This is our drawing loop, we just continuously draw new images\n",
    "            # and show them in the named window\n",
    "            #For our purposes, we are going to select the top left, and bottom right corners of  the \n",
    "            #strike zone and then connect the points together in a rectangle\n",
    "                                   \n",
    "            if (len(self.points) > 0):\n",
    "                # Draw all the current polygon segments\n",
    "#                 cv2.polylines(self.canvas, np.array([self.points]), False, FINAL_LINE_COLOR, 1)\n",
    "                cv2.circle(self.canvas, self.points[-1], 5, FINAL_LINE_COLOR, THICKNESS)\n",
    "                # And  also show what the current segment would look like\n",
    "#                 cv2.line(self.canvas, self.points[-1], self.current, WORKING_LINE_COLOR,2)\n",
    "            # Update the window\n",
    "            cv2.imshow(self.window_name, self.canvas)\n",
    "            # And wait 50ms before next iteration (this will pump window messages meanwhile)\n",
    "            if cv2.waitKey(50) == 27: # ESC hit\n",
    "                self.done = True\n",
    "\n",
    "        # User finised entering the polygon points, so let's make the final drawing\n",
    "        self.canvas = np.copy(clean) #Clean copy of the canvas (no lines) which will get returned to the user\n",
    "#         of a filled polygon\n",
    "        if (len(self.points) > 0):\n",
    "            tl = self.points[0]\n",
    "            br = self.points[1]\n",
    "            bl = (tl[0],br[1])\n",
    "            tr = (br[0],tl[1])\n",
    "            strike_zone_top = [tl,tr]\n",
    "            strike_zone_right = [tr,br]\n",
    "            strike_zone_bottom = [br,bl]\n",
    "            strike_zone_left = [bl,tl]\n",
    "            \n",
    "            cv2.polylines(self.canvas, np.array([strike_zone_top]),False, FINAL_LINE_COLOR,THICKNESS)\n",
    "            cv2.polylines(self.canvas, np.array([strike_zone_right]),False, FINAL_LINE_COLOR,THICKNESS)\n",
    "            cv2.polylines(self.canvas, np.array([strike_zone_bottom]),False, FINAL_LINE_COLOR,THICKNESS)\n",
    "            cv2.polylines(self.canvas, np.array([strike_zone_left]),False, FINAL_LINE_COLOR,THICKNESS)\n",
    "# #         And show it\n",
    "        cv2.imshow(self.window_name, self.canvas)\n",
    "        # Waiting for the user to press any key\n",
    "        cv2.waitKey()\n",
    "\n",
    "        cv2.destroyWindow(self.window_name)\n",
    "        \n",
    "        zone = self.canvas - clean #Subtract off difference between original image and marked up image\n",
    "        \n",
    "        zone_r = zone[:,:,2] #break into 3 color components r,g,b\n",
    "        zone_g = zone[:,:,1]\n",
    "        zone_b = zone[:,:,0]\n",
    "        \n",
    "\n",
    "        zone_r[zone_r!=0] = FINAL_LINE_COLOR[2] #Find where these are not equal to zero and set them to the color of the line\n",
    "                                                #used for marking up\n",
    "        zone_g[zone_g!=0] = FINAL_LINE_COLOR[1]\n",
    "        zone_b[zone_b!=0] = FINAL_LINE_COLOR[0]\n",
    "        \n",
    "        zone_line = np.stack((zone_b,zone_g,zone_r)).T.swapaxes(0,1) #stack em back up\n",
    "        \n",
    "        return self.canvas,zone_line\n"
   ]
  },
  {
   "cell_type": "code",
   "execution_count": 51,
   "id": "9e1c2d9c",
   "metadata": {},
   "outputs": [
    {
     "name": "stdout",
     "output_type": "stream",
     "text": [
      "Adding point #0 with position(945,653)\n",
      "Adding point #1 with position(1175,836)\n",
      "Completing polygon with 2 points.\n",
      "Polygon = [(945, 653), (1175, 836)]\n"
     ]
    }
   ],
   "source": [
    "if __name__ == \"__main__\":\n",
    "    canvas = np.copy(frame_list[50])\n",
    "    pd = PolygonDrawer(\"Polygon\",canvas)\n",
    "    image,zone_outline = pd.run()\n",
    "    cv2.imwrite(\"polygon.png\", image)\n",
    "    print(\"Polygon = %s\" % pd.points)\n"
   ]
  },
  {
   "cell_type": "code",
   "execution_count": 52,
   "id": "8504e961",
   "metadata": {},
   "outputs": [],
   "source": [
    "cv2.imshow('image',canvas) #show original\n",
    "cv2.waitKey(0) \n",
    "  \n",
    "# closing all open windows \n",
    "cv2.destroyAllWindows() "
   ]
  },
  {
   "cell_type": "code",
   "execution_count": 53,
   "id": "e3387dd6",
   "metadata": {},
   "outputs": [],
   "source": [
    "cv2.imshow('image',image)#show marked up\n",
    "cv2.waitKey(0) \n",
    "  \n",
    "# closing all open windows \n",
    "cv2.destroyAllWindows() "
   ]
  },
  {
   "cell_type": "code",
   "execution_count": 54,
   "id": "61437fd0",
   "metadata": {},
   "outputs": [
    {
     "name": "stdout",
     "output_type": "stream",
     "text": [
      "(1080, 1920, 3)\n"
     ]
    }
   ],
   "source": [
    "cv2.imshow('zone',zone_outline) #Show outline drawn by user\n",
    "cv2.waitKey(0) \n",
    "  \n",
    "# closing all open windows \n",
    "cv2.destroyAllWindows() \n",
    "\n",
    "print(np.shape(zone_outline))"
   ]
  },
  {
   "cell_type": "code",
   "execution_count": 55,
   "id": "f2dd8d6c",
   "metadata": {},
   "outputs": [],
   "source": [
    "zone_r = zone_outline[:,:,2] #break up zone into r,g,b\n",
    "zone_g = zone_outline[:,:,1]\n",
    "zone_b = zone_outline[:,:,0]\n",
    "new_frames = [] #new frames for the edited video will be stored here\n",
    "for k in range(len(frame_list)):\n",
    "    new_frames.append(frame_list[k])\n",
    "    current_frame = new_frames[k] #select current frame\n",
    "    current_frame_r = current_frame[:,:,2] #break into color components\n",
    "    current_frame_g = current_frame[:,:,1]\n",
    "    current_frame_b = current_frame[:,:,0]\n",
    "    \n",
    "    current_frame_r[zone_r != 0] = np.max(zone_r) #Find on the current frame where the zone_outline is non-zero and set to \n",
    "                                                #the max for that color channel\n",
    "    current_frame_g[zone_g != 0] = np.max(zone_g)\n",
    "    current_frame_b[zone_b != 0] = np.max(zone_b)\n",
    "    \n"
   ]
  },
  {
   "cell_type": "code",
   "execution_count": 56,
   "id": "a1f862f7",
   "metadata": {},
   "outputs": [],
   "source": [
    "# newframes = []\n",
    "#Write video to output\n",
    "writer = cv2.VideoWriter(\"outputvideo.mp4\", cv2.VideoWriter_fourcc(*\"mp4v\"), 120, (1920,1080))\n",
    "\n",
    "for i in range(len(new_frames)):\n",
    "\n",
    "    writer.write(new_frames[i])  # write frame into output vid\n",
    "\n",
    "writer.release()"
   ]
  },
  {
   "cell_type": "code",
   "execution_count": null,
   "id": "4c9422cd",
   "metadata": {},
   "outputs": [],
   "source": []
  }
 ],
 "metadata": {
  "kernelspec": {
   "display_name": "Python 3 (ipykernel)",
   "language": "python",
   "name": "python3"
  },
  "language_info": {
   "codemirror_mode": {
    "name": "ipython",
    "version": 3
   },
   "file_extension": ".py",
   "mimetype": "text/x-python",
   "name": "python",
   "nbconvert_exporter": "python",
   "pygments_lexer": "ipython3",
   "version": "3.9.7"
  }
 },
 "nbformat": 4,
 "nbformat_minor": 5
}
